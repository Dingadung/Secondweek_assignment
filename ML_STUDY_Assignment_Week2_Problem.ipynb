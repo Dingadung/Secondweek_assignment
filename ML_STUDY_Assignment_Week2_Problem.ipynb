{
  "nbformat": 4,
  "nbformat_minor": 0,
  "metadata": {
    "colab": {
      "name": "ML_STUDY_Assignment_Week2.ipynb",
      "provenance": [],
      "collapsed_sections": [
        "qSYD2cTt5_c6",
        "10sbYhES6X1n"
      ]
    },
    "kernelspec": {
      "name": "python3",
      "display_name": "Python 3"
    },
    "language_info": {
      "name": "python"
    }
  },
  "cells": [
    {
      "cell_type": "markdown",
      "metadata": {
        "id": "qSYD2cTt5_c6"
      },
      "source": [
        "# 1. 이론 주관식\n"
      ]
    },
    {
      "cell_type": "markdown",
      "metadata": {
        "id": "QPWHS9Yr6wes"
      },
      "source": [
        "### 1.과적합(overfitting) 이란?"
      ]
    },
    {
      "cell_type": "markdown",
      "metadata": {
        "id": "O1V5Rhmd7Vv_"
      },
      "source": [
        "### 2. 과적합을 개선하기 위한 방법 한가지 이상"
      ]
    },
    {
      "cell_type": "markdown",
      "metadata": {
        "id": "gbG6AgpNDmke"
      },
      "source": [
        "### 3. Imbalanced 분포도를 가진 레이블 데이터 집합에서 사용하는 검증 방법을 찾고 그 방법을 간단하게 설명하시오."
      ]
    },
    {
      "cell_type": "markdown",
      "metadata": {
        "id": "wgJUR6pzKfA5"
      },
      "source": [
        "### 4. Data Prepocessing (데이터 전처리)에서 인코딩(encoding)을 하는 이유"
      ]
    },
    {
      "cell_type": "markdown",
      "metadata": {
        "id": "yC4AclRWPb9z"
      },
      "source": [
        "### 5. One-hot encoding의 단점"
      ]
    },
    {
      "cell_type": "markdown",
      "metadata": {
        "id": "el_-_7EKUmIk"
      },
      "source": [
        "### 6. 데이터의 스케일링 변환시 유의해야할 점"
      ]
    },
    {
      "cell_type": "markdown",
      "metadata": {
        "id": "5M4T_UrLYKkZ"
      },
      "source": [
        "# 2. Coding part\n",
        "\n",
        "Heart Failure Prediction의 자료를 다운 받고 이 자료를 이용하여 death event를 예측 해보기"
      ]
    },
    {
      "cell_type": "markdown",
      "metadata": {
        "id": "nzKErmR6Zn5m"
      },
      "source": [
        "자료는 assignment를 위해서 조금 수정하였기에 제공된 파일 사용하기"
      ]
    },
    {
      "cell_type": "markdown",
      "metadata": {
        "id": "4MhdgPysX03D"
      },
      "source": [
        "자료 설명 (안 읽어도 됨)\n",
        "\n",
        "Heart Failure Prediction\n",
        "12 clinical features for predicting death events.\n",
        "\n",
        "Cardiovascular diseases (CVDs) are the number 1 cause of death globally, taking an estimated 17.9 million lives each year, which accounts for 31% of all deaths worlwide.\n",
        "Heart failure is a common event caused by CVDs and this dataset contains 12 features that can be used to predict mortality by heart failure.\n",
        "\n",
        "Most cardiovascular diseases can be prevented by addressing behavioural risk factors such as tobacco use, unhealthy diet and obesity, physical inactivity and harmful use of alcohol using population-wide strategies.\n",
        "\n",
        "People with cardiovascular disease or who are at high cardiovascular risk (due to the presence of one or more risk factors such as hypertension, diabetes, hyperlipidaemia or already established disease) need early detection and management wherein a machine learning model can be of great help.\n",
        "\n",
        "출처 : https://www.kaggle.com/andrewmvd/heart-failure-clinical-data\n"
      ]
    },
    {
      "cell_type": "markdown",
      "metadata": {
        "id": "10sbYhES6X1n"
      },
      "source": [
        "### 1. 데이터 불러오기"
      ]
    },
    {
      "cell_type": "markdown",
      "metadata": {
        "id": "XOODNd6deX3L"
      },
      "source": [
        "저는 코랩을 사용해서 구글드라이브에서 아래처럼 파일을 불러왔는데, 각자 사용하는 프로그램에 따라서 파일을 불러오기만 하면 됩니다!"
      ]
    },
    {
      "cell_type": "code",
      "metadata": {
        "colab": {
          "base_uri": "https://localhost:8080/"
        },
        "id": "sNBbF9EE0dv9",
        "outputId": "02c1f026-e4ba-4d45-f483-32e61167adbf"
      },
      "source": [
        "from google.colab import drive\n",
        "drive.mount('/content/drive/')"
      ],
      "execution_count": 275,
      "outputs": [
        {
          "output_type": "stream",
          "name": "stdout",
          "text": [
            "Drive already mounted at /content/drive/; to attempt to forcibly remount, call drive.mount(\"/content/drive/\", force_remount=True).\n"
          ]
        }
      ]
    },
    {
      "cell_type": "code",
      "metadata": {
        "colab": {
          "base_uri": "https://localhost:8080/",
          "height": 161
        },
        "id": "6NrqTjLEzPyT",
        "outputId": "5051db50-19f7-44d3-9ab7-ce407b5619bb"
      },
      "source": [
        "import numpy as np\n",
        "import pandas as pd\n",
        "import matplotlib.pyplot as plt\n",
        "import seaborn as sns\n",
        "\n",
        "heart_df = pd.read_csv('./drive/MyDrive/Colab_Notebooks/heart_failure_clinical_records_dataset.csv')\n",
        "[                ]"
      ],
      "execution_count": 276,
      "outputs": [
        {
          "output_type": "execute_result",
          "data": {
            "text/html": [
              "<div>\n",
              "<style scoped>\n",
              "    .dataframe tbody tr th:only-of-type {\n",
              "        vertical-align: middle;\n",
              "    }\n",
              "\n",
              "    .dataframe tbody tr th {\n",
              "        vertical-align: top;\n",
              "    }\n",
              "\n",
              "    .dataframe thead th {\n",
              "        text-align: right;\n",
              "    }\n",
              "</style>\n",
              "<table border=\"1\" class=\"dataframe\">\n",
              "  <thead>\n",
              "    <tr style=\"text-align: right;\">\n",
              "      <th></th>\n",
              "      <th>age</th>\n",
              "      <th>anaemia</th>\n",
              "      <th>creatinine_phosphokinase</th>\n",
              "      <th>diabetes</th>\n",
              "      <th>ejection_fraction</th>\n",
              "      <th>high_blood_pressure</th>\n",
              "      <th>platelets</th>\n",
              "      <th>serum_creatinine</th>\n",
              "      <th>serum_sodium</th>\n",
              "      <th>sex</th>\n",
              "      <th>smoking</th>\n",
              "      <th>time</th>\n",
              "      <th>DEATH_EVENT</th>\n",
              "    </tr>\n",
              "  </thead>\n",
              "  <tbody>\n",
              "    <tr>\n",
              "      <th>0</th>\n",
              "      <td>75.0</td>\n",
              "      <td>0</td>\n",
              "      <td>582.0</td>\n",
              "      <td>0</td>\n",
              "      <td>20.0</td>\n",
              "      <td>1</td>\n",
              "      <td>265000.00</td>\n",
              "      <td>1.9</td>\n",
              "      <td>130.0</td>\n",
              "      <td>1</td>\n",
              "      <td>N</td>\n",
              "      <td>4.0</td>\n",
              "      <td>1</td>\n",
              "    </tr>\n",
              "    <tr>\n",
              "      <th>1</th>\n",
              "      <td>55.0</td>\n",
              "      <td>0</td>\n",
              "      <td>7861.0</td>\n",
              "      <td>0</td>\n",
              "      <td>38.0</td>\n",
              "      <td>0</td>\n",
              "      <td>263358.03</td>\n",
              "      <td>1.1</td>\n",
              "      <td>136.0</td>\n",
              "      <td>1</td>\n",
              "      <td>N</td>\n",
              "      <td>6.0</td>\n",
              "      <td>1</td>\n",
              "    </tr>\n",
              "    <tr>\n",
              "      <th>2</th>\n",
              "      <td>65.0</td>\n",
              "      <td>0</td>\n",
              "      <td>146.0</td>\n",
              "      <td>0</td>\n",
              "      <td>20.0</td>\n",
              "      <td>0</td>\n",
              "      <td>162000.00</td>\n",
              "      <td>1.3</td>\n",
              "      <td>129.0</td>\n",
              "      <td>1</td>\n",
              "      <td>Y</td>\n",
              "      <td>7.0</td>\n",
              "      <td>1</td>\n",
              "    </tr>\n",
              "  </tbody>\n",
              "</table>\n",
              "</div>"
            ],
            "text/plain": [
              "    age  anaemia  creatinine_phosphokinase  ...  smoking  time  DEATH_EVENT\n",
              "0  75.0        0                     582.0  ...        N   4.0            1\n",
              "1  55.0        0                    7861.0  ...        N   6.0            1\n",
              "2  65.0        0                     146.0  ...        Y   7.0            1\n",
              "\n",
              "[3 rows x 13 columns]"
            ]
          },
          "metadata": {},
          "execution_count": 276
        }
      ]
    },
    {
      "cell_type": "code",
      "metadata": {
        "id": "w-o-F_h64QNm"
      },
      "source": [
        "print('\\n ### train 데이터 정보 ###  \\n')\n",
        "[                  ]"
      ],
      "execution_count": null,
      "outputs": []
    },
    {
      "cell_type": "markdown",
      "metadata": {
        "id": "mCJ_EKA36U2Q"
      },
      "source": [
        "### 2. 결손 데이터 확인"
      ]
    },
    {
      "cell_type": "code",
      "metadata": {
        "colab": {
          "base_uri": "https://localhost:8080/"
        },
        "id": "T0JNAIAV4tMr",
        "outputId": "2e0d9dfd-9bd2-45c7-f701-e127ad03047e"
      },
      "source": [
        "print('데이터 세트 Null 값 갯수 ', [            ])"
      ],
      "execution_count": 278,
      "outputs": [
        {
          "output_type": "stream",
          "name": "stdout",
          "text": [
            "데이터 세트 Null 값 갯수  age                         18\n",
            "anaemia                      0\n",
            "creatinine_phosphokinase     1\n",
            "diabetes                     0\n",
            "ejection_fraction            7\n",
            "high_blood_pressure          0\n",
            "platelets                    5\n",
            "serum_creatinine             2\n",
            "serum_sodium                 3\n",
            "sex                          0\n",
            "smoking                      0\n",
            "time                         4\n",
            "DEATH_EVENT                  0\n",
            "dtype: int64\n"
          ]
        }
      ]
    },
    {
      "cell_type": "code",
      "metadata": {
        "colab": {
          "base_uri": "https://localhost:8080/"
        },
        "id": "ULIcwW8pQ0Kb",
        "outputId": "b4e8297e-abb9-4bfb-b91c-2d71e706f537"
      },
      "source": [
        "heart_df['age'].fillna(heart_df['age'].mean(),inplace=True)\n",
        "[                                                       \n",
        "                                                       \n",
        "                                                       \n",
        "                                                       \n",
        "      \n",
        "                                                        ]\n",
        "print('데이터 세트 Null 값 갯수 ',covid_df.isnull().sum())"
      ],
      "execution_count": 279,
      "outputs": [
        {
          "output_type": "stream",
          "name": "stdout",
          "text": [
            "데이터 세트 Null 값 갯수  age                         0\n",
            "anaemia                     0\n",
            "creatinine_phosphokinase    0\n",
            "diabetes                    0\n",
            "ejection_fraction           0\n",
            "high_blood_pressure         0\n",
            "platelets                   0\n",
            "serum_creatinine            0\n",
            "serum_sodium                0\n",
            "sex                         0\n",
            "smoking                     0\n",
            "time                        0\n",
            "DEATH_EVENT                 0\n",
            "dtype: int64\n"
          ]
        }
      ]
    },
    {
      "cell_type": "markdown",
      "metadata": {
        "id": "6RBt3ixnZ3Dv"
      },
      "source": [
        "### 3. 나이, 성별, 흡연여부로 다양하게 분포 파악해보기"
      ]
    },
    {
      "cell_type": "code",
      "metadata": {
        "colab": {
          "base_uri": "https://localhost:8080/"
        },
        "id": "4kklNjys6cgH",
        "outputId": "31928a11-d472-4f6d-847c-cffbe1e9d12f"
      },
      "source": [
        "print(' Sex 값 분포 :\\n', heart_df['sex'].value_counts())\n",
        "[\n",
        "  \n",
        "                                                        ]"
      ],
      "execution_count": 280,
      "outputs": [
        {
          "output_type": "stream",
          "name": "stdout",
          "text": [
            " Sex 값 분포 :\n",
            " 1    194\n",
            "0    105\n",
            "Name: sex, dtype: int64\n",
            "\n",
            " age 값 분포 :\n",
            " 60.000000    30\n",
            "50.000000    25\n",
            "70.000000    25\n",
            "65.000000    24\n",
            "60.827996    18\n",
            "55.000000    17\n",
            "45.000000    17\n",
            "75.000000    10\n",
            "58.000000    10\n",
            "53.000000     9\n",
            "72.000000     7\n",
            "40.000000     7\n",
            "42.000000     7\n",
            "80.000000     7\n",
            "63.000000     6\n",
            "85.000000     6\n",
            "62.000000     5\n",
            "52.000000     5\n",
            "49.000000     4\n",
            "61.000000     4\n",
            "59.000000     4\n",
            "68.000000     4\n",
            "51.000000     4\n",
            "73.000000     4\n",
            "64.000000     3\n",
            "69.000000     3\n",
            "82.000000     3\n",
            "48.000000     2\n",
            "95.000000     2\n",
            "90.000000     2\n",
            "57.000000     2\n",
            "66.000000     2\n",
            "46.000000     2\n",
            "67.000000     2\n",
            "54.000000     2\n",
            "44.000000     2\n",
            "77.000000     2\n",
            "47.000000     1\n",
            "78.000000     1\n",
            "81.000000     1\n",
            "94.000000     1\n",
            "43.000000     1\n",
            "56.000000     1\n",
            "86.000000     1\n",
            "87.000000     1\n",
            "79.000000     1\n",
            "41.000000     1\n",
            "60.667000     1\n",
            "Name: age, dtype: int64\n",
            "\n",
            " smoking 값 분포 :\n",
            " N    203\n",
            "Y     96\n",
            "Name: smoking, dtype: int64\n"
          ]
        }
      ]
    },
    {
      "cell_type": "code",
      "metadata": {
        "colab": {
          "base_uri": "https://localhost:8080/"
        },
        "id": "6qSP6V2pAJFp",
        "outputId": "481447dc-4254-4235-ff8b-4e33b30a189c"
      },
      "source": [
        "[                                                  ]"
      ],
      "execution_count": 281,
      "outputs": [
        {
          "output_type": "execute_result",
          "data": {
            "text/plain": [
              "sex  DEATH_EVENT\n",
              "0    0               71\n",
              "     1               34\n",
              "1    0              132\n",
              "     1               62\n",
              "Name: sex, dtype: int64"
            ]
          },
          "metadata": {},
          "execution_count": 281
        }
      ]
    },
    {
      "cell_type": "code",
      "metadata": {
        "colab": {
          "base_uri": "https://localhost:8080/",
          "height": 297
        },
        "id": "rzuI-ZCbAJg5",
        "outputId": "4e84ab81-7519-423f-f675-ee65eb63be72"
      },
      "source": [
        "sns.barplot(x='sex', y = 'DEATH_EVENT', data=heart_df)"
      ],
      "execution_count": 282,
      "outputs": [
        {
          "output_type": "execute_result",
          "data": {
            "text/plain": [
              "<matplotlib.axes._subplots.AxesSubplot at 0x7f9caeddded0>"
            ]
          },
          "metadata": {},
          "execution_count": 282
        },
        {
          "output_type": "display_data",
          "data": {
            "image/png": "[encoded data removed]",
            "text/plain": [
              "<Figure size 432x288 with 1 Axes>"
            ]
          },
          "metadata": {
            "needs_background": "light"
          }
        }
      ]
    },
    {
      "cell_type": "code",
      "metadata": {
        "colab": {
          "base_uri": "https://localhost:8080/",
          "height": 297
        },
        "id": "q4xHXV2BAMD7",
        "outputId": "60201ad8-0be7-4a1e-c446-76eba4599869"
      },
      "source": [
        "[                                                 ]"
      ],
      "execution_count": 264,
      "outputs": [
        {
          "output_type": "execute_result",
          "data": {
            "text/plain": [
              "<matplotlib.axes._subplots.AxesSubplot at 0x7f9caee82ed0>"
            ]
          },
          "metadata": {},
          "execution_count": 264
        },
        {
          "output_type": "display_data",
          "data": {
            "image/png": "[encoded data removed]",
            "text/plain": [
              "<Figure size 432x288 with 1 Axes>"
            ]
          },
          "metadata": {
            "needs_background": "light"
          }
        }
      ]
    },
    {
      "cell_type": "code",
      "metadata": {
        "colab": {
          "base_uri": "https://localhost:8080/",
          "height": 389
        },
        "id": "xzWSr7MWANeJ",
        "outputId": "cbdad12a-e3b2-46b3-b085-c22abe739ffc"
      },
      "source": [
        "# 입력 age에 따라 구분값을 반환하는 함수 설정. DataFrame의 apply lambda식에 사용. \n",
        "def get_category(age):\n",
        "    cat = ''\n",
        "    if age <= 55: cat = 'below55'\n",
        "    elif age <= 65: cat = '56To65'\n",
        "    elif age <= 75: cat = '66To75'\n",
        "    elif age <= 85: cat = '76To85'\n",
        "    else : cat = 'Above86'\n",
        "    \n",
        "    return cat\n",
        "\n",
        "# 막대그래프의 크기 figure를 더 크게 설정 \n",
        "plt.figure(figsize=(10,6))\n",
        "\n",
        "#X축의 값을 순차적으로 표시하기 위한 설정 \n",
        "group_names = ['below55', '56To65', '66To75', '76To85', 'Above86']\n",
        "\n",
        "# lambda 식에 위에서 생성한 get_category( ) 함수를 반환값으로 지정. \n",
        "# get_category(X)는 입력값으로 'Age' 컬럼값을 받아서 해당하는 cat 반환\n",
        "heart_df['Age_cat'] = heart_df['age'].apply(lambda x : get_category(x))\n",
        "sns.barplot(x='Age_cat', y='DEATH_EVENT', hue='sex', data=heart_df, order=group_names)\n",
        "heart_df.drop('Age_cat', axis=1, inplace=True)"
      ],
      "execution_count": 283,
      "outputs": [
        {
          "output_type": "display_data",
          "data": {
            "image/png": "[encoded data removed]",
            "text/plain": [
              "<Figure size 720x432 with 1 Axes>"
            ]
          },
          "metadata": {
            "needs_background": "light"
          }
        }
      ]
    },
    {
      "cell_type": "code",
      "metadata": {
        "colab": {
          "base_uri": "https://localhost:8080/",
          "height": 389
        },
        "id": "OsHxONnASiVQ",
        "outputId": "43ceeb63-02cf-4d56-d33e-4d4fa2979ddd"
      },
      "source": [
        "[\n",
        "  \n",
        "                                                        ]"
      ],
      "execution_count": 284,
      "outputs": [
        {
          "output_type": "display_data",
          "data": {
            "image/png": "[encoded data removed]",
            "text/plain": [
              "<Figure size 720x432 with 1 Axes>"
            ]
          },
          "metadata": {
            "needs_background": "light"
          }
        }
      ]
    },
    {
      "cell_type": "markdown",
      "metadata": {
        "id": "rS0mcT5caOMh"
      },
      "source": [
        "### 4. 데이터 전처리"
      ]
    },
    {
      "cell_type": "code",
      "metadata": {
        "colab": {
          "base_uri": "https://localhost:8080/",
          "height": 222
        },
        "id": "Zgiupup_AO_C",
        "outputId": "1d031d83-99bf-41e7-a0db-1be3f1a0bbe2"
      },
      "source": [
        "from sklearn import preprocessing\n",
        "\n",
        "def encode_features(dataDF):\n",
        "    features = ['smoking']\n",
        "    for feature in features:\n",
        "        le = preprocessing.LabelEncoder()\n",
        "        le = le.fit(dataDF[feature])\n",
        "        dataDF[feature] = le.transform(dataDF[feature])\n",
        "        \n",
        "    return dataDF\n",
        "\n",
        "heart_df = encode_features(heart_df)\n",
        "heart_df.head()"
      ],
      "execution_count": 285,
      "outputs": [
        {
          "output_type": "execute_result",
          "data": {
            "text/html": [
              "<div>\n",
              "<style scoped>\n",
              "    .dataframe tbody tr th:only-of-type {\n",
              "        vertical-align: middle;\n",
              "    }\n",
              "\n",
              "    .dataframe tbody tr th {\n",
              "        vertical-align: top;\n",
              "    }\n",
              "\n",
              "    .dataframe thead th {\n",
              "        text-align: right;\n",
              "    }\n",
              "</style>\n",
              "<table border=\"1\" class=\"dataframe\">\n",
              "  <thead>\n",
              "    <tr style=\"text-align: right;\">\n",
              "      <th></th>\n",
              "      <th>age</th>\n",
              "      <th>anaemia</th>\n",
              "      <th>creatinine_phosphokinase</th>\n",
              "      <th>diabetes</th>\n",
              "      <th>ejection_fraction</th>\n",
              "      <th>high_blood_pressure</th>\n",
              "      <th>platelets</th>\n",
              "      <th>serum_creatinine</th>\n",
              "      <th>serum_sodium</th>\n",
              "      <th>sex</th>\n",
              "      <th>smoking</th>\n",
              "      <th>time</th>\n",
              "      <th>DEATH_EVENT</th>\n",
              "    </tr>\n",
              "  </thead>\n",
              "  <tbody>\n",
              "    <tr>\n",
              "      <th>0</th>\n",
              "      <td>75.0</td>\n",
              "      <td>0</td>\n",
              "      <td>582.0</td>\n",
              "      <td>0</td>\n",
              "      <td>20.0</td>\n",
              "      <td>1</td>\n",
              "      <td>265000.00</td>\n",
              "      <td>1.9</td>\n",
              "      <td>130.0</td>\n",
              "      <td>1</td>\n",
              "      <td>0</td>\n",
              "      <td>4.0</td>\n",
              "      <td>1</td>\n",
              "    </tr>\n",
              "    <tr>\n",
              "      <th>1</th>\n",
              "      <td>55.0</td>\n",
              "      <td>0</td>\n",
              "      <td>7861.0</td>\n",
              "      <td>0</td>\n",
              "      <td>38.0</td>\n",
              "      <td>0</td>\n",
              "      <td>263358.03</td>\n",
              "      <td>1.1</td>\n",
              "      <td>136.0</td>\n",
              "      <td>1</td>\n",
              "      <td>0</td>\n",
              "      <td>6.0</td>\n",
              "      <td>1</td>\n",
              "    </tr>\n",
              "    <tr>\n",
              "      <th>2</th>\n",
              "      <td>65.0</td>\n",
              "      <td>0</td>\n",
              "      <td>146.0</td>\n",
              "      <td>0</td>\n",
              "      <td>20.0</td>\n",
              "      <td>0</td>\n",
              "      <td>162000.00</td>\n",
              "      <td>1.3</td>\n",
              "      <td>129.0</td>\n",
              "      <td>1</td>\n",
              "      <td>1</td>\n",
              "      <td>7.0</td>\n",
              "      <td>1</td>\n",
              "    </tr>\n",
              "    <tr>\n",
              "      <th>3</th>\n",
              "      <td>50.0</td>\n",
              "      <td>1</td>\n",
              "      <td>111.0</td>\n",
              "      <td>0</td>\n",
              "      <td>20.0</td>\n",
              "      <td>0</td>\n",
              "      <td>210000.00</td>\n",
              "      <td>1.9</td>\n",
              "      <td>137.0</td>\n",
              "      <td>1</td>\n",
              "      <td>0</td>\n",
              "      <td>7.0</td>\n",
              "      <td>1</td>\n",
              "    </tr>\n",
              "    <tr>\n",
              "      <th>4</th>\n",
              "      <td>65.0</td>\n",
              "      <td>1</td>\n",
              "      <td>160.0</td>\n",
              "      <td>1</td>\n",
              "      <td>20.0</td>\n",
              "      <td>0</td>\n",
              "      <td>327000.00</td>\n",
              "      <td>2.7</td>\n",
              "      <td>116.0</td>\n",
              "      <td>0</td>\n",
              "      <td>0</td>\n",
              "      <td>8.0</td>\n",
              "      <td>1</td>\n",
              "    </tr>\n",
              "  </tbody>\n",
              "</table>\n",
              "</div>"
            ],
            "text/plain": [
              "    age  anaemia  creatinine_phosphokinase  ...  smoking  time  DEATH_EVENT\n",
              "0  75.0        0                     582.0  ...        0   4.0            1\n",
              "1  55.0        0                    7861.0  ...        0   6.0            1\n",
              "2  65.0        0                     146.0  ...        1   7.0            1\n",
              "3  50.0        1                     111.0  ...        0   7.0            1\n",
              "4  65.0        1                     160.0  ...        0   8.0            1\n",
              "\n",
              "[5 rows x 13 columns]"
            ]
          },
          "metadata": {},
          "execution_count": 285
        }
      ]
    },
    {
      "cell_type": "markdown",
      "metadata": {
        "id": "FQwI2bazbYsZ"
      },
      "source": [
        "### 5. Null 처리 & 불필요 feature 제거 & 레이블 인코딩 & 새로 호출"
      ]
    },
    {
      "cell_type": "code",
      "metadata": {
        "id": "GdGQf3SGAQhS"
      },
      "source": [
        "from sklearn.preprocessing import LabelEncoder\n",
        "\n",
        "# Null 처리 함수\n",
        "def fillna(df):\n",
        "     df['age'].fillna(df['age'].mean(),inplace=True)\n",
        "     [\n",
        "  \n",
        "                                                        ]\n",
        "     return df\n",
        "\n",
        "# 머신러닝 알고리즘에 불필요한 속성 제거\n",
        "def drop_features(df):\n",
        "    df.drop(['time'],axis=1,inplace=True)\n",
        "    return df\n",
        "\n",
        "# 레이블 인코딩 수행. \n",
        "def format_features(df):\n",
        "    features = ['smoking']\n",
        "    for feature in features:\n",
        "        le = LabelEncoder()\n",
        "        le = le.fit(df[feature])\n",
        "        df[feature] = le.transform(df[feature])\n",
        "    return df\n",
        "\n",
        "# 앞에서 설정한 Data Preprocessing 함수 호출\n",
        "def transform_features(df): \n",
        "    df = fillna(df)\n",
        "    df = drop_features(df)\n",
        "    df = format_features(df)\n",
        "    return df\n"
      ],
      "execution_count": 286,
      "outputs": []
    },
    {
      "cell_type": "markdown",
      "metadata": {
        "id": "aKE_mrrrbiYk"
      },
      "source": [
        "### 6. 원본 데이터를 재로딩 하고, feature데이터 셋과 Label 데이터 셋 추출. "
      ]
    },
    {
      "cell_type": "code",
      "metadata": {
        "id": "S0K8k3gbbiPl"
      },
      "source": [
        "# 원본 데이터를 재로딩 하고, feature데이터 셋과 Label 데이터 셋 추출. \n",
        "heart_df = pd.read_csv('./drive/MyDrive/Colab_Notebooks/heart_failure_clinical_records_dataset.csv')\n",
        "y_heart_df = heart_df['DEATH_EVENT']\n",
        "X_heart_df= heart_df.drop('DEATH_EVENT',axis=1)\n",
        "X_heart_df = transform_features(X_heart_df)"
      ],
      "execution_count": 287,
      "outputs": []
    },
    {
      "cell_type": "code",
      "metadata": {
        "id": "2gf-kn2mAUZD"
      },
      "source": [
        "from sklearn.model_selection import train_test_split\n",
        "X_train, X_test, y_train, y_test=train_test_split(X_heart_df, y_heart_df, \n",
        "                                                  test_size=0.3, random_state=2021)"
      ],
      "execution_count": 288,
      "outputs": []
    },
    {
      "cell_type": "markdown",
      "metadata": {
        "id": "lLmUPuAPbve5"
      },
      "source": [
        "### 7. 결정트리, Random Forest, 로지스틱 회귀로 데이터를 학습시키고 각 classifier에서 정확도 도출"
      ]
    },
    {
      "cell_type": "code",
      "metadata": {
        "colab": {
          "base_uri": "https://localhost:8080/"
        },
        "id": "mbvfSXKrAVj0",
        "outputId": "91e9986f-4009-4dce-cfa0-ca8bf30b846b"
      },
      "source": [
        "from sklearn.tree import DecisionTreeClassifier\n",
        "from sklearn.ensemble import RandomForestClassifier\n",
        "from sklearn.linear_model import LogisticRegression\n",
        "from sklearn.metrics import accuracy_score\n",
        "\n",
        "# 결정트리, Random Forest, 로지스틱 회귀를 위한 사이킷런 Classifier 클래스 생성\n",
        "dt_clf = DecisionTreeClassifier(random_state=2021)\n",
        "rf_clf = RandomForestClassifier(random_state=2021)\n",
        "lr_clf = LogisticRegression()\n",
        "\n",
        "# DecisionTreeClassifier 학습/예측/평가\n",
        "[\n",
        "  \n",
        "                                                        ]\n",
        "\n",
        "# RandomForestClassifier 학습/예측/평가\n",
        "[\n",
        "  \n",
        "                                                        ]\n",
        "\n",
        "# LogisticRegression 학습/예측/평가\n",
        "[\n",
        "  \n",
        "                                                        ]"
      ],
      "execution_count": 289,
      "outputs": [
        {
          "output_type": "stream",
          "name": "stdout",
          "text": [
            "DecisionTreeClassifier 정확도: 0.7333\n",
            "RandomForestClassifier 정확도:0.7667\n",
            "LogisticRegression 정확도: 0.7667\n"
          ]
        }
      ]
    },
    {
      "cell_type": "markdown",
      "metadata": {
        "id": "YeyTi3U0btYW"
      },
      "source": [
        "### 8. KFold 이용 (fold = 5)"
      ]
    },
    {
      "cell_type": "code",
      "metadata": {
        "colab": {
          "base_uri": "https://localhost:8080/"
        },
        "id": "ApqJ3HMlAXn4",
        "outputId": "2e7e1f61-4f50-4e2d-a7f8-5a57791ca4d7"
      },
      "source": [
        "from sklearn.model_selection import KFold\n",
        "\n",
        "def exec_kfold(clf, folds=5):\n",
        "    # 폴드 세트를 5개인 KFold객체를 생성, 폴드 수만큼 예측결과 저장을 위한  리스트 객체 생성.\n",
        "    kfold = KFold(n_splits=folds)\n",
        "    scores = []\n",
        "    \n",
        "    # KFold 교차 검증 수행. \n",
        "    for iter_count , (train_index, test_index) in enumerate(kfold.split(X_heart_df)):\n",
        "        # X_titanic_df 데이터에서 교차 검증별로 학습과 검증 데이터를 가리키는 index 생성\n",
        "        X_train, X_test = X_heart_df.values[train_index], X_heart_df.values[test_index]\n",
        "        y_train, y_test = y_heart_df.values[train_index], y_heart_df.values[test_index]\n",
        "        \n",
        "        # Classifier 학습, 예측, 정확도 계산 \n",
        "        [\n",
        "  \n",
        "                                                        ] \n",
        "    \n",
        "    # 5개 fold에서의 평균 정확도 계산. \n",
        "    mean_score = np.mean(scores)\n",
        "    print(\"평균 정확도: {0:.4f}\".format(mean_score)) \n",
        "# exec_kfold 호출\n",
        "exec_kfold(dt_clf , folds=5)"
      ],
      "execution_count": 290,
      "outputs": [
        {
          "output_type": "stream",
          "name": "stdout",
          "text": [
            "교차 검증 0 정확도: 0.2833\n",
            "교차 검증 1 정확도: 0.6333\n",
            "교차 검증 2 정확도: 0.7333\n",
            "교차 검증 3 정확도: 0.6833\n",
            "교차 검증 4 정확도: 0.7288\n",
            "평균 정확도: 0.6124\n"
          ]
        }
      ]
    },
    {
      "cell_type": "markdown",
      "metadata": {
        "id": "97q-l1QkcBYH"
      },
      "source": [
        "### 9. cross_val_score 사용"
      ]
    },
    {
      "cell_type": "code",
      "metadata": {
        "colab": {
          "base_uri": "https://localhost:8080/"
        },
        "id": "59UP2i7MAZDL",
        "outputId": "2a294dee-f9bc-4995-ff14-972368b57b66"
      },
      "source": [
        "from sklearn.model_selection import cross_val_score\n",
        "\n",
        "scores = cross_val_score(dt_clf, X_heart_df , y_heart_df , cv=5)\n",
        "[\n",
        "  \n",
        "                                                        ]\n",
        "\n",
        "print(\"평균 정확도: {0:.4f}\".format(np.mean(scores)))"
      ],
      "execution_count": 291,
      "outputs": [
        {
          "output_type": "stream",
          "name": "stdout",
          "text": [
            "교차 검증 0 정확도: 0.6833\n",
            "교차 검증 1 정확도: 0.7333\n",
            "교차 검증 2 정확도: 0.7000\n",
            "교차 검증 3 정확도: 0.6833\n",
            "교차 검증 4 정확도: 0.6441\n",
            "평균 정확도: 0.6888\n"
          ]
        }
      ]
    },
    {
      "cell_type": "markdown",
      "metadata": {
        "id": "62iMFxhOcF49"
      },
      "source": [
        "### 10. GridSearchCV를 이용해서 최적의 hyper-parameter를 구하고 최고의 정확도 구해보기"
      ]
    },
    {
      "cell_type": "code",
      "metadata": {
        "colab": {
          "base_uri": "https://localhost:8080/"
        },
        "id": "QlSJ1Rf8Aab6",
        "outputId": "22c66cca-45f0-477e-a2c0-b22617cc47b2"
      },
      "source": [
        "from sklearn.model_selection import GridSearchCV\n",
        "\n",
        "parameters = {'max_depth':[2,3,5,10],\n",
        "             'min_samples_split':[2,3,5], 'min_samples_leaf':[1,5,8]}\n",
        "\n",
        "[\n",
        "  \n",
        "                                                        ]"
      ],
      "execution_count": 292,
      "outputs": [
        {
          "output_type": "stream",
          "name": "stdout",
          "text": [
            "GridSearchCV 최적 하이퍼 파라미터 : {'max_depth': 2, 'min_samples_leaf': 8, 'min_samples_split': 2}\n",
            "GridSearchCV 최고 정확도: 0.7179\n",
            "테스트 세트에서의 DecisionTreeClassifier 정확도 : 0.7556\n"
          ]
        }
      ]
    }
  ]
}